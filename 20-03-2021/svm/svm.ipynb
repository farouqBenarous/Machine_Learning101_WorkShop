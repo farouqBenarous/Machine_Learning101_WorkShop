{
  "nbformat": 4,
  "nbformat_minor": 0,
  "metadata": {
    "kernelspec": {
      "display_name": "Python 3",
      "language": "python",
      "name": "python3"
    },
    "language_info": {
      "codemirror_mode": {
        "name": "ipython",
        "version": 3
      },
      "file_extension": ".py",
      "mimetype": "text/x-python",
      "name": "python",
      "nbconvert_exporter": "python",
      "pygments_lexer": "ipython3",
      "version": "3.6.0"
    },
    "colab": {
      "name": "svm.ipynb",
      "provenance": [],
      "collapsed_sections": []
    }
  },
  "cells": [
    {
      "cell_type": "markdown",
      "metadata": {
        "id": "XRQeTxJ5Xzqs"
      },
      "source": [
        "# Support vector machine \n",
        "#### What are Support Vectors and the hyperplane ?\n",
        "\n",
        "![alt text](https://www.dtreg.com/uploaded/pageimg/SvmMargin2.jpg \"Logo Title Text 1\")\n",
        " \n",
        "### Whats a hyperplane?\n",
        "\n",
        "![alt text](http://slideplayer.com/slide/1579281/5/images/32/Hyperplanes+as+decision+surfaces.jpg \"Logo Title Text 1\")\n",
        "\n",
        "Geometry tells us that a hyperplane is a subspace of one dimension less than its ambient space. For instance, a hyperplane of an n-dimensional space is a flat subset with dimension n − 1. By its nature, it separates the space into two half spaces.\n",
        "\n",
        "## Linear vs nonlinear classification?\n",
        "\n",
        "Sometimes our data is linearly seperable. That means for N classes with M features, we can learn a mapping that is a linear combination. (like y = mx + b). Or even a multidimensional hyperplane (y = x + z + b + q). No matter how many dimensions/features a set of classes have, we can represent the mapping using a linear function.\n",
        "\n",
        "But sometimes its not. Like if there was a quadratic mapping. Luckily for us SVMs can can efficiently perform a non-linear classification using what is called the kernel trick. I'll talk about that lter on in the course. \n",
        "\n",
        "![alt text](https://media.licdn.com/mpr/mpr/AAEAAQAAAAAAAAuSAAAAJDlhYzcwMzhlLTA0MjYtNDEyYS1hMWM4LTE3Zjk5NDlhNzVkMQ.png \"Logo Title Text 1\")\n",
        "\n",
        "Alright let's get to building!"
      ]
    },
    {
      "cell_type": "markdown",
      "metadata": {
        "id": "FzGYex9IF-8k"
      },
      "source": [
        "**Import liberaries**"
      ]
    },
    {
      "cell_type": "code",
      "metadata": {
        "id": "CMs9vcuqGBO6",
        "colab": {
          "base_uri": "https://localhost:8080/"
        },
        "outputId": "b7bb4b2b-5f35-430e-e199-6a1be1e54e00"
      },
      "source": [
        "import numpy as np \n",
        "import pandas as pd \n",
        "import matplotlib.pyplot as plt\n",
        "\n",
        "#Mount Gdrive\n",
        "from google.colab import drive\n",
        "drive.mount('/content/drive')"
      ],
      "execution_count": null,
      "outputs": [
        {
          "output_type": "stream",
          "text": [
            "Drive already mounted at /content/drive; to attempt to forcibly remount, call drive.mount(\"/content/drive\", force_remount=True).\n"
          ],
          "name": "stdout"
        }
      ]
    },
    {
      "cell_type": "markdown",
      "metadata": {
        "id": "6Yri20ogGFFA"
      },
      "source": [
        "**Read the data**"
      ]
    },
    {
      "cell_type": "code",
      "metadata": {
        "colab": {
          "base_uri": "https://localhost:8080/"
        },
        "id": "jY4tyKZhF9_w",
        "outputId": "cedec085-38f1-4b37-d410-e4c3f3362277"
      },
      "source": [
        "data = pd.read_csv(\"/content/drive/MyDrive/Machine learning Workshop/code/new_dummy_data_svm.csv\")\n",
        "\n",
        "features = pd.DataFrame(data={'x1': data['x1'].to_numpy(),'x2': data['x2'].to_numpy(),'bias': np.random.default_rng().integers(low=-1, high=-0.99,size=100)}).to_numpy()\n",
        "\n",
        "targets =  data['y']\n",
        "\n",
        "print(data)"
      ],
      "execution_count": null,
      "outputs": [
        {
          "output_type": "stream",
          "text": [
            "    Unnamed: 0    x1    x2  y\n",
            "0            0   4.0  1.62 -1\n",
            "1            1  10.0  6.83  1\n",
            "2            2   3.0  2.46 -1\n",
            "3            3  15.0  5.16  1\n",
            "4            4   1.0  2.92 -1\n",
            "..         ...   ...   ... ..\n",
            "95          95  10.0  6.16  1\n",
            "96          96   4.0  1.95 -1\n",
            "97          97   9.0  6.44  1\n",
            "98          98   2.0  1.14 -1\n",
            "99          99  13.0  5.49  1\n",
            "\n",
            "[100 rows x 4 columns]\n"
          ],
          "name": "stdout"
        }
      ]
    },
    {
      "cell_type": "markdown",
      "metadata": {
        "id": "SnsBysuL5oSj"
      },
      "source": [
        "**Plot our Data**"
      ]
    },
    {
      "cell_type": "code",
      "metadata": {
        "colab": {
          "base_uri": "https://localhost:8080/",
          "height": 295
        },
        "id": "iPFq8Yfd6wl1",
        "outputId": "a2f5090c-7928-4697-f984-c53f8a0c2a54"
      },
      "source": [
        "def plot_data (data):\n",
        "  for d,row in data.iterrows():\n",
        "    if row['y'] == -1:\n",
        "      plt.scatter(row['x1'],row['x2'], s=120, marker='_',color='red', linewidths=2)\n",
        "    if row['y'] == 1:\n",
        "        plt.scatter(row['x1'],row['x2'], s=120, marker='+',color='blue', linewidths=2)\n",
        "\n",
        "  plt.xlabel(\"Feature 1\")\n",
        "  plt.ylabel(\"Feature 2\")\n",
        "  plt.title(\"Dummy data\")\n",
        "  \n",
        "\n",
        "plot_data(data)  \n",
        "plt.show()"
      ],
      "execution_count": null,
      "outputs": [
        {
          "output_type": "display_data",
          "data": {
            "image/png": "[encoded data removed]",
            "text/plain": [
              "<Figure size 432x288 with 1 Axes>"
            ]
          },
          "metadata": {
            "tags": [],
            "needs_background": "light"
          }
        }
      ]
    },
    {
      "cell_type": "markdown",
      "metadata": {
        "id": "UiPTBhWOuWeW"
      },
      "source": [
        "**Define Model baseLine and hyper parameters**"
      ]
    },
    {
      "cell_type": "code",
      "metadata": {
        "id": "hblBgNdxuap7"
      },
      "source": [
        "# Y = W * X  \n",
        "def my_model(x,w):\n",
        "  return np.dot(x, w)\n",
        "\n",
        "initial_wieghts = np.zeros(len(X[0])+1)  #Init our model wieghts\n",
        "learning_rate = 1\n",
        "num_iterations = 10000"
      ],
      "execution_count": null,
      "outputs": []
    },
    {
      "cell_type": "code",
      "metadata": {
        "colab": {
          "base_uri": "https://localhost:8080/"
        },
        "id": "Igj32hZd6spS",
        "outputId": "7e5a74db-a789-4ec5-854f-ee5e38b36c2f"
      },
      "source": [
        "np.zeros(len(X[0])+1) "
      ],
      "execution_count": null,
      "outputs": [
        {
          "output_type": "execute_result",
          "data": {
            "text/plain": [
              "array([0., 0., 0.])"
            ]
          },
          "metadata": {
            "tags": []
          },
          "execution_count": 277
        }
      ]
    },
    {
      "cell_type": "markdown",
      "metadata": {
        "id": "ihfZIxFVXzqz"
      },
      "source": [
        "## Let's define our loss function (what to minimize) and our objective function (what to optimize)\n",
        "\n",
        "#### Loss function\n",
        "\n",
        "We'll use the Hinge loss. This is a loss function used for training classifiers. The hinge loss is used for \"maximum-margin\" classification, most notably for support vector machines (SVMs).\n",
        "\n",
        "![alt text](http://i.imgur.com/OzCwzyN.png \"Logo Title Text 1\")\n",
        "\n",
        "\n",
        "c is the loss function, x the sample, y is the true label, f(x) the predicted label.\n",
        "\n",
        "![alt text](http://i.imgur.com/FZ7JcG3.png \"Logo Title Text 1\")\n",
        "\n",
        " \n",
        "#### Objective Function\n",
        "\n",
        "![alt text](http://i.imgur.com/I5NNu44.png \"Logo Title Text 1\")\n",
        "\n",
        "As you can see, our objective of a SVM consists of two terms. The first term is a regularizer, the heart of the SVM, the second term the loss. The regularizer balances between margin maximization and loss. We want to find the decision surface that is maximally far away from any data points.\n",
        "\n",
        "How do we minimize our loss/optimize for our objective (i.e learn)?\n",
        "\n",
        "We have to derive our objective function to get the gradients! Gradient descent ftw.  As we have two terms, we will derive them seperately using the sum rule in differentiation.\n",
        "\n",
        "\n",
        "![alt text](http://i.imgur.com/6uK3BnH.png \"Logo Title Text 1\")\n",
        "\n",
        "This means, if we have a misclassified sample, we update the weight vector w using the gradients of both terms, else if classified correctly,we just update w by the gradient of the regularizer.\n",
        "\n",
        "\n",
        "\n",
        "* Misclassification condition \n",
        "\n",
        "![alt text](http://i.imgur.com/g9QLAyn.png \"Logo Title Text 1\")\n",
        "\n",
        "* Update rule for our weights (misclassified)\n",
        "\n",
        "![alt text](http://i.imgur.com/rkdPpTZ.png \"Logo Title Text 1\")\n",
        "\n",
        "* Update rule for our weights (correctly classified)\n",
        "\n",
        "![alt text](http://i.imgur.com/xTKbvZ6.png \"Logo Title Text 1\")\n"
      ]
    },
    {
      "cell_type": "code",
      "metadata": {
        "collapsed": true,
        "id": "zlkJfyZmXzqz"
      },
      "source": [
        "def train(X, Y , w):\n",
        "    errors = []\n",
        "    weights = w\n",
        "\n",
        "    #training part, gradient descent part\n",
        "    for epoch in range(1,num_iterations):\n",
        "        error = 0\n",
        "        # for each datapoint\n",
        "        for i, x in enumerate(X):\n",
        "           \n",
        "            #misclassification\n",
        "            if (Y[i]* my_model(X[i], weights)) < 1:\n",
        "                #misclassified update for ours weights\n",
        "                weights = weights + learning_rate * ( (X[i] * Y[i]) + (-2  *(1/epoch)* weights) )\n",
        "                error = 1\n",
        "            else:\n",
        "                #correct classification, update our weights\n",
        "                weights = weights + learning_rate * (-2  *(1/epoch)* weights)\n",
        "        errors.append(error)\n",
        "        \n",
        "\n",
        "    #lets plot the rate of classification errors during training for our SVM\n",
        "    plt.plot(errors, '|')\n",
        "    plt.ylim(0.5,1.5)\n",
        "    plt.axes().set_yticklabels([])\n",
        "    plt.xlabel('Epoch')\n",
        "    plt.ylabel('Misclassified')\n",
        "    plt.show()\n",
        "    \n",
        "    return weights"
      ],
      "execution_count": null,
      "outputs": []
    },
    {
      "cell_type": "code",
      "metadata": {
        "collapsed": true,
        "id": "mAjAemgwXzq0",
        "colab": {
          "base_uri": "https://localhost:8080/",
          "height": 332
        },
        "outputId": "5bb7640f-1b84-4128-a01f-aae3613e93e9"
      },
      "source": [
        "final_w = train(features,targets,initial_wieghts)\n",
        "print(final_w)\n",
        "#they decrease over time! Our SVM is learning the optimal hyperplane"
      ],
      "execution_count": null,
      "outputs": [
        {
          "output_type": "stream",
          "text": [
            "/usr/local/lib/python3.7/dist-packages/ipykernel_launcher.py:25: MatplotlibDeprecationWarning: Adding an axes using the same arguments as a previous axes currently reuses the earlier instance.  In a future version, a new instance will always be created and returned.  Meanwhile, this warning can be suppressed, and the future behavior ensured, by passing a unique label to each axes instance.\n"
          ],
          "name": "stderr"
        },
        {
          "output_type": "display_data",
          "data": {
            "image/png": "[encoded data removed]",
            "text/plain": [
              "<Figure size 432x288 with 1 Axes>"
            ]
          },
          "metadata": {
            "tags": []
          }
        },
        {
          "output_type": "stream",
          "text": [
            "[ 2.45378916  4.95083922 35.76504654]\n"
          ],
          "name": "stdout"
        }
      ]
    },
    {
      "cell_type": "code",
      "metadata": {
        "id": "ygOMgbNEJuIf",
        "colab": {
          "base_uri": "https://localhost:8080/",
          "height": 345
        },
        "outputId": "01c5542d-b66b-4c08-f107-52ca6cf60ca3"
      },
      "source": [
        " #Plot our  data \n",
        "plot_data(data)\n",
        "print(initial_wieghts)\n",
        "print(final_w)\n",
        "\n",
        "w =  final_w\n",
        "x2=[w[0],w[1],-w[1],w[0]]\n",
        "x3=[w[0],w[1],w[1],-w[0]]\n",
        "\n",
        "x2x3 =np.array([x2,x3])\n",
        "m,n,U,V = zip(*x2x3)\n",
        "ax = plt.gca()\n",
        "ax.quiver(m,n,U,V,scale=1, color='green')"
      ],
      "execution_count": null,
      "outputs": [
        {
          "output_type": "stream",
          "text": [
            "[0. 0. 0.]\n",
            "[ 2.45378916  4.95083922 35.76504654]\n"
          ],
          "name": "stdout"
        },
        {
          "output_type": "execute_result",
          "data": {
            "text/plain": [
              "<matplotlib.quiver.Quiver at 0x7f2e09eafd90>"
            ]
          },
          "metadata": {
            "tags": []
          },
          "execution_count": 0
        },
        {
          "output_type": "display_data",
          "data": {
            "image/png": "[encoded data removed]",
            "text/plain": [
              "<Figure size 432x288 with 1 Axes>"
            ]
          },
          "metadata": {
            "tags": []
          }
        }
      ]
    },
    {
      "cell_type": "code",
      "metadata": {
        "id": "7kfHk1jT7ac7",
        "colab": {
          "base_uri": "https://localhost:8080/"
        },
        "outputId": "23bac41a-c03d-45e3-c59f-ed3f12c1e7a9"
      },
      "source": [
        ""
      ],
      "execution_count": null,
      "outputs": [
        {
          "output_type": "execute_result",
          "data": {
            "text/plain": [
              "-17.92953038335283"
            ]
          },
          "metadata": {
            "tags": []
          },
          "execution_count": 283
        }
      ]
    }
  ]
}