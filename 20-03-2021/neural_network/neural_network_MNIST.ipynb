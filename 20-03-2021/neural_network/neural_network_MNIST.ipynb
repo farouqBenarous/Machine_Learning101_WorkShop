{
  "nbformat": 4,
  "nbformat_minor": 0,
  "metadata": {
    "kernelspec": {
      "display_name": "Python 3",
      "language": "python",
      "name": "python3"
    },
    "language_info": {
      "codemirror_mode": {
        "name": "ipython",
        "version": 3
      },
      "file_extension": ".py",
      "mimetype": "text/x-python",
      "name": "python",
      "nbconvert_exporter": "python",
      "pygments_lexer": "ipython3",
      "version": "3.7.6"
    },
    "papermill": {
      "duration": 258.73422,
      "end_time": "2021-03-15T12:15:12.666880",
      "environment_variables": {},
      "exception": null,
      "input_path": "__notebook__.ipynb",
      "output_path": "__notebook__.ipynb",
      "parameters": {},
      "start_time": "2021-03-15T12:10:53.932660",
      "version": "2.1.0"
    },
    "colab": {
      "name": "neural_network_MNIST.ipynb",
      "provenance": [],
      "collapsed_sections": [],
      "toc_visible": true
    }
  },
  "cells": [
    {
      "cell_type": "markdown",
      "metadata": {
        "id": "IEfLulM_qP91"
      },
      "source": [
        "# **Hand written digets classification using neural network MNIST**"
      ]
    },
    {
      "cell_type": "code",
      "metadata": {
        "_cell_guid": "b1076dfc-b9ad-4769-8c92-a6c4dae69d19",
        "_uuid": "8f2839f25d086af736a60e9eeb907d3b93b6e0e5",
        "execution": {
          "iopub.execute_input": "2021-03-15T12:10:58.733671Z",
          "iopub.status.busy": "2021-03-15T12:10:58.732888Z",
          "iopub.status.idle": "2021-03-15T12:10:58.738500Z",
          "shell.execute_reply": "2021-03-15T12:10:58.737717Z"
        },
        "papermill": {
          "duration": 0.016847,
          "end_time": "2021-03-15T12:10:58.738674",
          "exception": false,
          "start_time": "2021-03-15T12:10:58.721827",
          "status": "completed"
        },
        "tags": [],
        "colab": {
          "base_uri": "https://localhost:8080/"
        },
        "id": "NmepcCl7dZCF",
        "outputId": "6fb4a70b-c45b-488e-b7d3-405c55c87930"
      },
      "source": [
        "\n",
        "import numpy as np, sys # linear algebra\n",
        "import pandas as pd # data processing, CSV file I/O (e.g. pd.read_csv)\n",
        "import matplotlib.pyplot as plt # Plotting \n",
        "\n",
        "from google.colab import drive,files\n",
        "import os\n",
        "np.random.seed(1)\n",
        "\n",
        "\n",
        "#Mount Gdrive\n",
        "drive.mount('/content/drive')"
      ],
      "execution_count": null,
      "outputs": [
        {
          "output_type": "stream",
          "text": [
            "Drive already mounted at /content/drive; to attempt to forcibly remount, call drive.mount(\"/content/drive\", force_remount=True).\n"
          ],
          "name": "stdout"
        }
      ]
    },
    {
      "cell_type": "markdown",
      "metadata": {
        "id": "CLjb_A438oMJ"
      },
      "source": [
        "##**What we gonna build**"
      ]
    },
    {
      "cell_type": "markdown",
      "metadata": {
        "id": "cIZq0HN3EZa1"
      },
      "source": [
        "![alt text](https://drive.google.com/uc?id=1OS6SyupEWIvqyaouIre6-Q2sLQgsu9hf \"Logo Title Text 1\")"
      ]
    },
    {
      "cell_type": "markdown",
      "metadata": {
        "id": "Syzqfshlqkyc"
      },
      "source": [
        "## **Load our dataset**"
      ]
    },
    {
      "cell_type": "code",
      "metadata": {
        "colab": {
          "base_uri": "https://localhost:8080/"
        },
        "id": "rgmq6FVrqtfd",
        "outputId": "aa84d80d-be3c-4a93-d64c-2e82d18aa132"
      },
      "source": [
        "trainData = pd.read_csv(\"/content/drive/MyDrive/Machine learning Workshop/code/digit-recognizer/train.csv\")\n",
        "print('The train dataset have',trainData.shape[0],'images.')\n",
        "print('There are',trainData.shape[1],'columns. 784 for pixels of each images and 1 for label field.')"
      ],
      "execution_count": 40,
      "outputs": [
        {
          "output_type": "stream",
          "text": [
            "The train dataset have 42000 images.\n",
            "There are 785 columns. 784 for pixels of each images and 1 for label field.\n"
          ],
          "name": "stdout"
        }
      ]
    },
    {
      "cell_type": "markdown",
      "metadata": {
        "id": "eJFrdJV1rJNM"
      },
      "source": [
        "**Split the data into Training and testing set**"
      ]
    },
    {
      "cell_type": "code",
      "metadata": {
        "colab": {
          "base_uri": "https://localhost:8080/"
        },
        "id": "MsDMMFGprPIX",
        "outputId": "9949888e-4b8d-4fb0-f6af-4c591c015c6d"
      },
      "source": [
        "# We split the data to two sets one we train the model and the other set is gonna be used to test the performace of the model   \n",
        "\n",
        "# Train dataset:\n",
        "# X-Axis : Pixels values - each images 28x28 pixels convert into to  28^2 = 784 array. \n",
        "x_train = (trainData.iloc[:,1:]).values.astype('float32')\n",
        "# Y-Axis : Target : Label\n",
        "y_train = trainData.iloc[:,0].values.astype('int32')\n",
        "trainData.head()\n",
        "\n",
        "testData = pd.read_csv(\"/content/drive/MyDrive/Machine learning Workshop/code/digit-recognizer/test.csv\")\n",
        "print('The test dataset have',testData.shape[0],'images.')\n",
        "print('There are',testData.shape[1],'columns. 784 for pixels of each images without label.')\n",
        "\n",
        "# X-Axis : Pixels values\n",
        "x_test = (testData.iloc[:,0:]).values.astype('float32')\n",
        "y_test = trainData.iloc[:,0].values.astype('int32')\n",
        "\n",
        "images, labels = (x_train[0:1000].reshape(1000,28*28) / 255, y_train[0:1000])"
      ],
      "execution_count": 41,
      "outputs": [
        {
          "output_type": "stream",
          "text": [
            "The test dataset have 28000 images.\n",
            "There are 784 columns. 784 for pixels of each images without label.\n"
          ],
          "name": "stdout"
        }
      ]
    },
    {
      "cell_type": "markdown",
      "metadata": {
        "id": "sqYuqViGq3Vg"
      },
      "source": [
        "**Plot the data**"
      ]
    },
    {
      "cell_type": "code",
      "metadata": {
        "colab": {
          "base_uri": "https://localhost:8080/",
          "height": 282
        },
        "id": "WtCudVa8q5iq",
        "outputId": "bf20bcdb-4739-4d4c-b19f-b68d4b1cf605"
      },
      "source": [
        "#Not a necessary step, but it`s nice to visualize the data and do a sanity-check\n",
        "\n",
        "plt.figure(figsize=(25,25))\n",
        "j=0\n",
        "for i in range(1,43):\n",
        "    if(y_train[i] == 4):\n",
        "      j+=1\n",
        "      plt.subplot(5,5,j+1) \n",
        "      plt.imshow(x_train[i].reshape(28,28),cmap='gray')\n",
        "\n",
        "plt.show()"
      ],
      "execution_count": 44,
      "outputs": [
        {
          "output_type": "display_data",
          "data": {
            "image/png": "[encoded data removed]",
            "text/plain": [
              "<Figure size 1800x1800 with 4 Axes>"
            ]
          },
          "metadata": {
            "tags": [],
            "needs_background": "light"
          }
        }
      ]
    },
    {
      "cell_type": "markdown",
      "metadata": {
        "id": "VGmDkAWHvwFa"
      },
      "source": [
        "**Apply one hot encoding to our label**"
      ]
    },
    {
      "cell_type": "code",
      "metadata": {
        "execution": {
          "iopub.execute_input": "2021-03-15T12:10:58.784367Z",
          "iopub.status.busy": "2021-03-15T12:10:58.779068Z",
          "iopub.status.idle": "2021-03-15T12:11:05.179220Z",
          "shell.execute_reply": "2021-03-15T12:11:05.179731Z"
        },
        "papermill": {
          "duration": 6.41552,
          "end_time": "2021-03-15T12:11:05.179883",
          "exception": false,
          "start_time": "2021-03-15T12:10:58.764363",
          "status": "completed"
        },
        "tags": [],
        "colab": {
          "base_uri": "https://localhost:8080/"
        },
        "id": "26c7drWqdZCL",
        "outputId": "64e1c946-4cb4-44fc-bebf-fc464030ace7"
      },
      "source": [
        "one_hot_labels = np.zeros((len(labels),10))\n",
        "for i,l in enumerate(labels):\n",
        "  one_hot_labels[i][l] = 1\n",
        "labels = one_hot_labels\n",
        "\n",
        "test_images = x_test.reshape(len(x_test),28*28) / 255\n",
        "test_labels = np.zeros((len(y_test),10))\n",
        "for i,l in enumerate(y_test):\n",
        "    test_labels[i][l] = 1\n",
        "\n",
        "print(\"labels after encoding then\",labels)  "
      ],
      "execution_count": 45,
      "outputs": [
        {
          "output_type": "stream",
          "text": [
            "labels after encoding then [[0. 1. 0. ... 0. 0. 0.]\n",
            " [1. 0. 0. ... 0. 0. 0.]\n",
            " [0. 1. 0. ... 0. 0. 0.]\n",
            " ...\n",
            " [0. 0. 0. ... 0. 0. 1.]\n",
            " [0. 0. 0. ... 0. 0. 0.]\n",
            " [0. 0. 0. ... 0. 0. 0.]]\n"
          ],
          "name": "stdout"
        }
      ]
    },
    {
      "cell_type": "markdown",
      "metadata": {
        "id": "FIavT8SQxVMC"
      },
      "source": [
        "## **Time to build the model**\n",
        " \n",
        " **We start by defining our activation function**"
      ]
    },
    {
      "cell_type": "code",
      "metadata": {
        "id": "wM2SVT-zxne8"
      },
      "source": [
        "def relu(x):\n",
        "    return (x >= 0) * x # returns x if x > 0\n",
        "\n",
        "def relu_prime(output):\n",
        "    return output >= 0 # returns 1 for input > 0\n",
        "\n",
        "def dropout(layer_shape):\n",
        "  return np.random.randint(2,size=layer_shape) * 2.\n",
        "\n",
        "def sigmoid(x):\n",
        "    return 1/(1 + np.exp(-x))\n",
        "\n",
        "def sigmoid_prime(x):\n",
        "    return x*(1-x)  "
      ],
      "execution_count": 46,
      "outputs": []
    },
    {
      "cell_type": "markdown",
      "metadata": {
        "id": "Ls_iKdWjyQvm"
      },
      "source": [
        "**Now we define our hyper parameters (neurons ,layer, learning rate, iterations)**"
      ]
    },
    {
      "cell_type": "code",
      "metadata": {
        "id": "gdPGWoodyi-9"
      },
      "source": [
        "input_neurons = 784   # number of features Features  Aka number of input neurons\n",
        "hidden_neurons = 100   # number of hidden neurons in our  hidden layer \n",
        "output_neruons = 10   # number of labels Aka output neurons \n",
        "\n",
        "alpha =   0.001       # Learning rate \n",
        "iterations = 100      # Iterations of training \n",
        "batch_size = 100      # Batch size "
      ],
      "execution_count": 86,
      "outputs": []
    },
    {
      "cell_type": "markdown",
      "metadata": {
        "id": "UtFO86xxVmUq"
      },
      "source": [
        "**Define the model structure**"
      ]
    },
    {
      "cell_type": "code",
      "metadata": {
        "id": "unrmH4WTVkop"
      },
      "source": [
        "def predict(image,weights_0_1,weights_1_2):\n",
        "  layer_input = image\n",
        "  layer_1 = relu(np.dot(layer_input,weights_0_1))\n",
        "  layer_output = np.dot(layer_1, weights_1_2)\n",
        "  return sigmoid(layer_output)"
      ],
      "execution_count": 48,
      "outputs": []
    },
    {
      "cell_type": "markdown",
      "metadata": {
        "id": "FEm3zh6Ez9kG"
      },
      "source": [
        "**Define our objective function (What our model should do)**\n",
        "\n",
        "![alt text](https://drive.google.com/uc?id=1GqJUzZCthmE_S_YKs2LlMRjmY-NAF8oU \"Logo Title Text 1\")"
      ]
    },
    {
      "cell_type": "code",
      "metadata": {
        "id": "rYEJm3T71MPh"
      },
      "source": [
        "def calculate_loss_mse(output,labels,batch_start,batch_end):\n",
        "  return np.sum((labels[batch_start:batch_end] - output) ** 2)\n",
        "\n",
        "def calculate_loss_cross_entropy(output,labels,batch_start,batch_end):\n",
        "  return -np.mean ( labels[batch_start:batch_end] * np.log(output) + (1 - labels[batch_start:batch_end]) * np.log(1 - output) )  "
      ],
      "execution_count": 49,
      "outputs": []
    },
    {
      "cell_type": "markdown",
      "metadata": {
        "id": "A1C3TBzr1l-d"
      },
      "source": [
        "**Intialize our weights Input->Hidden->output**"
      ]
    },
    {
      "cell_type": "code",
      "metadata": {
        "colab": {
          "base_uri": "https://localhost:8080/"
        },
        "id": "EAYRsrQ11sjS",
        "outputId": "65d0a995-00a6-4cbf-f884-26b768b7f112"
      },
      "source": [
        "weights_0_1 = 0.2*np.random.random((input_neurons,hidden_neurons)) - 0.1\n",
        "weights_1_2 = 0.2*np.random.random((hidden_neurons,output_neruons)) - 0.1\n",
        "\n",
        "print(weights_0_1)"
      ],
      "execution_count": 93,
      "outputs": [
        {
          "output_type": "stream",
          "text": [
            "[[-0.02581343  0.05276126 -0.00377432 ... -0.02235895 -0.09569621\n",
            "   0.01532211]\n",
            " [ 0.0911545   0.04392554  0.07236071 ...  0.04073151  0.00852306\n",
            "  -0.09199009]\n",
            " [ 0.03218862  0.07253894  0.08184313 ...  0.09681425 -0.07536562\n",
            "   0.07340837]\n",
            " ...\n",
            " [-0.07537007  0.05312219  0.04614382 ...  0.09224743 -0.02703163\n",
            "  -0.06405528]\n",
            " [-0.03013598  0.022704    0.00523573 ... -0.08199545  0.05161903\n",
            "  -0.06385026]\n",
            " [ 0.09217696 -0.04102512 -0.04447047 ...  0.02416874  0.03794661\n",
            "   0.06590733]]\n"
          ],
          "name": "stdout"
        }
      ]
    },
    {
      "cell_type": "markdown",
      "metadata": {
        "id": "ZbJu8LQWhoMk"
      },
      "source": [
        "**Test with random weights**"
      ]
    },
    {
      "cell_type": "code",
      "metadata": {
        "colab": {
          "base_uri": "https://localhost:8080/",
          "height": 265
        },
        "id": "D9b8fOLxhrJH",
        "outputId": "ac624218-44f7-42e3-c5eb-da92a0c456b8"
      },
      "source": [
        "plt.imshow(images[25].reshape(28,28),cmap='gray')\n",
        "plt.show()"
      ],
      "execution_count": 117,
      "outputs": [
        {
          "output_type": "display_data",
          "data": {
            "image/png": "[encoded data removed]",
            "text/plain": [
              "<Figure size 432x288 with 1 Axes>"
            ]
          },
          "metadata": {
            "tags": [],
            "needs_background": "light"
          }
        }
      ]
    },
    {
      "cell_type": "code",
      "metadata": {
        "colab": {
          "base_uri": "https://localhost:8080/"
        },
        "id": "yNm3mczMhvC6",
        "outputId": "be0ef3b9-d60a-4040-8603-ae36d5073160"
      },
      "source": [
        "print(\"predicted label: \",np.argmax(predict(images[25],weights_0_1,weights_1_2)))"
      ],
      "execution_count": 118,
      "outputs": [
        {
          "output_type": "stream",
          "text": [
            "predicted label:  3\n"
          ],
          "name": "stdout"
        }
      ]
    },
    {
      "cell_type": "markdown",
      "metadata": {
        "id": "9Sl4oIyr8EDu"
      },
      "source": [
        "### **Let's train the Neural network !!**"
      ]
    },
    {
      "cell_type": "code",
      "metadata": {
        "execution": {
          "iopub.execute_input": "2021-03-15T12:11:05.194623Z",
          "iopub.status.busy": "2021-03-15T12:11:05.193916Z",
          "iopub.status.idle": "2021-03-15T12:15:12.543081Z",
          "shell.execute_reply": "2021-03-15T12:15:12.542282Z"
        },
        "papermill": {
          "duration": 247.357732,
          "end_time": "2021-03-15T12:15:12.543218",
          "exception": false,
          "start_time": "2021-03-15T12:11:05.185486",
          "status": "completed"
        },
        "tags": [],
        "colab": {
          "base_uri": "https://localhost:8080/"
        },
        "id": "nxqATXutdZCM",
        "outputId": "fe94a0ac-386c-4519-844c-8f8e03dfea6b"
      },
      "source": [
        "for j in range(iterations):\n",
        "    error, correct_cnt = (0.0, 0)\n",
        "    for i in range(int(len(images) / batch_size)):\n",
        "        batch_start, batch_end = ((i * batch_size),((i+1)*batch_size))\n",
        "\n",
        "        # feed forward\n",
        "        layer_input = images[batch_start:batch_end]\n",
        "        layer_1 = relu(np.dot(layer_input,weights_0_1))\n",
        "        dropout_mask = dropout(layer_1.shape) \n",
        "        layer_1 *=  dropout_mask   # Dropout\n",
        "        layer_output = sigmoid(np.dot(layer_1,weights_1_2))\n",
        "\n",
        "        # loss\n",
        "        error += calculate_loss_cross_entropy(layer_output,labels,batch_start,batch_end)\n",
        "\n",
        "        # back propagation\n",
        "        for k in range(batch_size):\n",
        "            # acurraccy of the model during the traing \n",
        "            correct_cnt += int(np.argmax(layer_output[k:k+1]) == np.argmax(labels[batch_start+k:batch_start+k+1]))\n",
        "          \n",
        "            # calculate our derivatives \n",
        "            layer_output_delta = sigmoid_prime((labels[batch_start:batch_end]-layer_output)/batch_size)\n",
        "\n",
        "            #print(layer_output_delta)\n",
        "            layer_1_delta = layer_output_delta.dot(weights_1_2.T) * relu_prime(layer_1)\n",
        "            layer_1_delta *= dropout_mask # Dropout\n",
        "\n",
        "            # update our weights \n",
        "            weights_1_2 = weights_1_2 + alpha * layer_1.T.dot(layer_output_delta)\n",
        "            weights_0_1 = weights_0_1 + alpha * layer_input.T.dot(layer_1_delta)\n",
        "            \n",
        "    if(j%10 == 0):\n",
        "\n",
        "        sys.stdout.write(\"\\n\" + \\\n",
        "                         \"I:\" + str(j) + \\\n",
        "                         \" Train-Err:\" + str(error/ float(len(images)))[0:5] +\\\n",
        "                         \" Train-Acc:\" + str(correct_cnt/ float(len(images))))\n",
        "        \n",
        "print(weights_0_1)\n",
        "print(weights_1_2)"
      ],
      "execution_count": 95,
      "outputs": [
        {
          "output_type": "stream",
          "text": [
            "\n",
            "I:0 Train-Err:0.004 Train-Acc:0.147\n",
            "I:10 Train-Err:0.001 Train-Acc:0.77\n",
            "I:20 Train-Err:0.001 Train-Acc:0.814\n",
            "I:30 Train-Err:0.000 Train-Acc:0.851\n",
            "I:40 Train-Err:0.000 Train-Acc:0.868\n",
            "I:50 Train-Err:0.000 Train-Acc:0.868\n",
            "I:60 Train-Err:0.000 Train-Acc:0.89\n",
            "I:70 Train-Err:0.000 Train-Acc:0.886\n",
            "I:80 Train-Err:0.000 Train-Acc:0.894\n",
            "I:90 Train-Err:0.000 Train-Acc:0.894[[-0.02581343  0.05276126 -0.00377432 ... -0.02235895 -0.09569621\n",
            "   0.01532211]\n",
            " [ 0.0911545   0.04392554  0.07236071 ...  0.04073151  0.00852306\n",
            "  -0.09199009]\n",
            " [ 0.03218862  0.07253894  0.08184313 ...  0.09681425 -0.07536562\n",
            "   0.07340837]\n",
            " ...\n",
            " [-0.07537007  0.05312219  0.04614382 ...  0.09224743 -0.02703163\n",
            "  -0.06405528]\n",
            " [-0.03013598  0.022704    0.00523573 ... -0.08199545  0.05161903\n",
            "  -0.06385026]\n",
            " [ 0.09217696 -0.04102512 -0.04447047 ...  0.02416874  0.03794661\n",
            "   0.06590733]]\n",
            "[[-4.58779279e-01 -9.54789661e-02  9.40053145e-02  8.70906361e-02\n",
            "  -1.65958077e-01 -1.37218996e-01 -2.27303295e-01 -2.82418006e-01\n",
            "   5.61635974e-02 -4.35045609e-01]\n",
            " [ 1.30529395e-01 -3.69863385e-01 -4.74216187e-01  2.85334724e-01\n",
            "  -4.55947359e-01 -1.19196263e-01 -3.66834919e-01 -1.18642912e-01\n",
            "  -5.53907662e-01 -1.21719367e-01]\n",
            " [ 1.38878554e-01 -3.53982951e-01 -5.51843340e-01 -4.65186137e-01\n",
            "  -2.48077304e-01  2.16443593e-02  9.38626237e-02 -4.22730010e-01\n",
            "  -4.76463762e-01 -4.46357863e-01]\n",
            " [ 2.61585761e-01 -3.29318066e-01 -5.02834336e-01 -9.76094214e-02\n",
            "  -3.25192658e-01  6.20075512e-02 -2.85218933e-01 -1.84107700e-01\n",
            "  -4.09782651e-01 -4.12772023e-01]\n",
            " [ 2.51580523e-01 -1.95351934e-01 -1.09206525e-02 -2.13012860e-01\n",
            "   5.74254150e-03 -5.69367270e-02 -1.48196231e-01 -2.04470665e-01\n",
            "  -3.33520958e-01 -2.93912362e-01]\n",
            " [-7.27766393e-02  1.02664096e-01 -5.09670834e-03 -1.09422411e-01\n",
            "  -2.81302333e-01 -1.59565516e-01  8.48964850e-02 -6.22117940e-02\n",
            "  -1.04431542e-01  3.11644543e-01]\n",
            " [-2.57944376e-01 -2.96965133e-01  1.14136592e-01  1.09960996e-02\n",
            "  -1.12293677e-02 -4.48833022e-01 -2.92691490e-01  3.21787951e-01\n",
            "  -4.06911965e-01 -3.80455755e-01]\n",
            " [-2.94875798e-01 -1.79850627e-01 -3.68412758e-01 -1.09638092e-01\n",
            "   2.89647244e-01 -3.42206302e-01  1.46265333e-01 -1.74148882e-01\n",
            "  -4.00170748e-01 -2.89623219e-01]\n",
            " [-7.16001334e-02  1.18145766e-01 -5.37476324e-02 -1.20726876e-01\n",
            "  -6.78216193e-02  3.15171992e-01 -1.93771099e-02 -5.13686534e-02\n",
            "  -1.00051496e-01 -3.43313932e-02]\n",
            " [ 6.98317426e-02 -4.91479188e-01 -7.54432926e-02 -2.54215857e-01\n",
            "  -1.77015666e-01 -9.30606820e-03 -3.23155044e-03 -4.22122195e-01\n",
            "  -9.65240249e-02  6.77108874e-02]\n",
            " [-6.37078548e-01  4.54418697e-02 -6.25433948e-01 -4.03927880e-01\n",
            "  -2.84894725e-02  2.90164888e-02 -5.66982538e-01 -4.62521691e-02\n",
            "  -3.54028083e-02  2.76066288e-02]\n",
            " [-3.72207381e-01  1.29374768e-01  2.47398123e-02 -5.07454164e-01\n",
            "  -3.14649270e-01  8.58376445e-02 -8.64950041e-02 -8.22475787e-02\n",
            "   2.50955831e-02 -6.36169121e-01]\n",
            " [-3.11516895e-01 -8.10976286e-03 -1.19264954e-02 -5.96388870e-03\n",
            "  -5.68292872e-01  4.63536793e-02 -6.65830099e-01 -4.33858576e-01\n",
            "   9.56779670e-02 -4.45099278e-01]\n",
            " [ 6.46839607e-02 -6.00660970e-01 -1.70036096e-02 -3.04398983e-03\n",
            "  -5.24439316e-01 -3.41572293e-02 -3.93718433e-02 -5.04445642e-01\n",
            "  -1.61914824e-02 -2.54678032e-01]\n",
            " [-3.09015179e-02  5.76649860e-02  5.98840458e-02  5.26958481e-02\n",
            "   8.89243002e-02 -2.62986675e-03  8.31833715e-02  5.42198138e-02\n",
            "  -9.88553285e-02 -8.23305141e-02]\n",
            " [-3.91361831e-02 -5.96085431e-01 -5.53223808e-01 -5.24317695e-02\n",
            "  -1.91040429e-03 -2.95125636e-03 -5.45827983e-02 -1.63366710e-01\n",
            "  -4.55621765e-02  2.64479238e-02]\n",
            " [-9.52203987e-02  4.11187765e-01 -1.76049690e-01 -2.20852006e-01\n",
            "  -8.96369833e-02 -7.60033995e-02 -8.19622767e-02  2.20241261e-02\n",
            "  -1.24014960e-01 -9.76108305e-02]\n",
            " [-5.20669334e-01  1.19280887e-01 -5.50891464e-01 -1.53279388e-01\n",
            "   8.76158838e-02  9.91906590e-02 -1.35670058e-01 -2.61344962e-01\n",
            "   5.84355329e-02 -5.93470876e-01]\n",
            " [-5.50422608e-01 -3.31655848e-01 -6.43445885e-01 -7.08691242e-01\n",
            "   7.69961110e-02  8.88478673e-02 -1.49350647e-01 -5.41978003e-02\n",
            "  -5.92197084e-02  5.79288232e-03]\n",
            " [-3.08156105e-01  2.37436129e-01  5.69543387e-02 -9.83835927e-02\n",
            "  -3.45726764e-01 -2.81200952e-01  2.04217003e-01 -2.32860469e-01\n",
            "  -3.78161618e-01 -2.39557788e-01]\n",
            " [-5.19236028e-01 -2.76219615e-02 -5.31486029e-01  1.98117346e-01\n",
            "  -2.98511348e-01 -8.70536944e-02 -3.65924155e-01 -2.59441063e-01\n",
            "   4.11854495e-02  2.99668203e-03]\n",
            " [ 7.19623447e-02 -1.38618725e-01  1.75543171e-01 -4.41965245e-02\n",
            "  -3.50827267e-01 -4.63052983e-01 -2.05578844e-01 -4.44650994e-01\n",
            "  -5.33843239e-01 -3.19736689e-01]\n",
            " [-3.73845325e-01 -7.75652258e-02 -4.75011669e-02 -7.04626767e-01\n",
            "   3.32540110e-02 -3.13424488e-01  7.22407988e-02 -2.67446549e-01\n",
            "   9.45133900e-02 -4.63881223e-02]\n",
            " [-2.77804772e-01 -1.36082212e-01  3.92778041e-02  9.08097409e-02\n",
            "  -5.83145065e-02 -1.49546971e-01  5.26556755e-02  1.31238948e-01\n",
            "  -1.86042700e-01 -3.91492410e-01]\n",
            " [-2.91053527e-01 -6.81445587e-01 -2.80648722e-01 -6.74731455e-01\n",
            "   4.41783938e-02  2.39862571e-03 -6.24194964e-02  6.40880257e-02\n",
            "  -4.65304094e-03 -3.63019375e-02]\n",
            " [ 8.66997368e-02 -3.75756955e-01  6.97038128e-02  1.18034817e-01\n",
            "  -1.23005722e-01 -2.81526507e-01 -7.07781991e-01 -4.19295116e-01\n",
            "   4.49211029e-03 -1.85887030e-01]\n",
            " [-4.56570850e-01  1.11124028e-01  1.80422778e-01 -5.48291644e-01\n",
            "  -1.59680351e-01 -5.41307716e-01 -1.01428508e-01 -1.48606861e-01\n",
            "  -1.16120473e-01 -5.17603192e-02]\n",
            " [-7.76756432e-02 -5.08210401e-01 -4.01181373e-01 -1.67216701e-01\n",
            "   2.39048630e-01 -1.26897276e-01 -4.31492641e-01  2.86155077e-01\n",
            "  -5.61316104e-01 -4.18239260e-01]\n",
            " [-2.16865886e-01 -1.20550164e-01 -7.60623554e-02 -2.11970326e-01\n",
            "   4.95982462e-01 -1.19892295e-02 -2.67429336e-01 -1.08142930e-01\n",
            "  -3.51796432e-01 -4.20780532e-01]\n",
            " [-8.11835909e-02  2.66363058e-02  6.20939885e-02  5.98680096e-02\n",
            "   6.99798651e-02  8.28125817e-02  1.58938116e-02  5.04338966e-02\n",
            "   9.46536743e-02  7.91338576e-02]\n",
            " [-4.15520869e-01  2.15505381e-01 -1.30837996e-01 -3.11966472e-02\n",
            "  -3.19853739e-01  1.24926443e-01  4.16158583e-02 -3.01561790e-01\n",
            "  -5.27661909e-01 -2.58249873e-01]\n",
            " [-3.21474560e-01  1.98446548e-01 -4.41481615e-01 -4.06482902e-01\n",
            "  -2.52726234e-01 -6.84772531e-02 -2.67106031e-01  5.53188374e-01\n",
            "  -4.27268158e-01 -4.71237349e-01]\n",
            " [-2.04851614e-01 -1.07201693e-01  6.19453215e-01 -2.63749807e-01\n",
            "  -2.01394118e-01  8.22432058e-02 -2.94822149e-01 -2.17023528e-01\n",
            "  -3.12762164e-01 -2.71703011e-01]\n",
            " [-3.58305781e-01  9.58178967e-02 -1.22895741e-01 -4.15447691e-01\n",
            "  -6.81657202e-01 -4.32624231e-01 -3.97629548e-01  1.16915634e-01\n",
            "  -6.28869769e-01  1.72690215e-01]\n",
            " [-5.36408189e-01 -1.58674904e-01 -1.77174497e-01 -6.28438470e-01\n",
            "   3.46377692e-02 -5.29222372e-01  7.41018323e-02 -1.39526424e-01\n",
            "   7.53677335e-02 -8.67036141e-04]\n",
            " [-3.40618541e-01 -3.83065183e-01  2.12235109e-01 -3.43127433e-01\n",
            "   1.00106949e-02 -1.38056545e-01  1.42998810e-01 -4.67417818e-01\n",
            "  -3.36399875e-01 -2.93949674e-01]\n",
            " [-6.57281971e-01 -2.10761875e-01 -2.92557655e-01  1.26898502e-01\n",
            "   5.55568894e-02 -8.42433148e-02 -4.47171230e-01 -3.84069171e-01\n",
            "   6.27611182e-02 -3.47482811e-02]\n",
            " [-1.59818623e-01 -1.36149777e-01 -1.47615595e-01  1.22339097e-01\n",
            "   4.66297816e-01 -2.54123619e-01 -2.10683684e-01 -1.65224167e-01\n",
            "  -2.50378742e-01 -1.05248699e-01]\n",
            " [-3.10534655e-01 -3.09825936e-01 -3.52232270e-01 -1.09994165e-01\n",
            "   2.06158193e-01 -4.85961006e-01 -2.06083767e-01 -1.63993429e-01\n",
            "  -3.65417938e-01  7.79493813e-02]\n",
            " [ 9.85612838e-02 -3.30651489e-01 -1.10536983e-01  6.50409000e-02\n",
            "  -5.14987961e-01 -1.68748055e-01  4.99508381e-02  9.24037099e-02\n",
            "  -4.93580548e-01 -5.38967451e-01]\n",
            " [-2.71023986e-01 -1.18674783e-01 -4.01496513e-01 -1.73606752e-01\n",
            "   3.38637784e-01 -8.69335789e-02 -9.09284274e-02 -2.84750661e-01\n",
            "  -5.01661299e-01 -1.10726434e-01]\n",
            " [ 1.17349293e-01 -2.84848218e-01  2.64519626e-01 -3.85791636e-01\n",
            "  -3.46354264e-01 -4.08458758e-01 -7.88714371e-02 -4.67980806e-01\n",
            "   8.11697612e-02 -4.33084395e-01]\n",
            " [-6.92084301e-02 -1.29164073e-01 -9.98247978e-02 -3.51099667e-03\n",
            "   5.86861419e-01 -1.47883101e-01 -1.95820123e-01 -1.44660766e-01\n",
            "  -1.95552253e-01 -3.62556128e-01]\n",
            " [ 9.33413919e-02  1.11528722e-03 -4.25394714e-02  2.76177055e-02\n",
            "   2.06565071e-02 -1.19745470e-02  4.52907301e-02  6.63016198e-02\n",
            "   7.16949479e-02 -4.39452810e-02]\n",
            " [ 1.25783535e-02 -5.57863995e-01 -2.23238445e-01  1.09751444e-02\n",
            "  -5.18926186e-01  4.31955526e-02 -6.60014871e-01  1.07597071e-01\n",
            "  -3.29733065e-01  3.79189948e-02]\n",
            " [ 9.84238489e-02 -4.57377916e-01 -1.75319548e-01 -2.57472393e-01\n",
            "  -4.41708722e-01 -5.79218865e-01 -3.55944871e-01  3.09857024e-02\n",
            "   2.65629394e-01  2.29315266e-01]\n",
            " [-1.19496361e-01 -3.78261139e-01 -3.86401306e-01 -1.40277083e-01\n",
            "  -2.77521152e-01 -2.05506555e-01 -4.41314403e-01  2.70589054e-01\n",
            "  -5.15336046e-01 -2.80283707e-03]\n",
            " [-1.97348143e-01 -8.07094430e-02 -5.15605893e-01 -3.38247148e-01\n",
            "   1.96515529e-01  4.18843973e-02  1.41589862e-01 -2.22721506e-01\n",
            "  -4.01509545e-01 -4.75784076e-01]\n",
            " [-2.04770052e-01 -5.62078391e-02 -2.80206410e-01  9.04879693e-02\n",
            "  -3.04330344e-01 -2.50880243e-01 -8.66900027e-02  4.61976798e-01\n",
            "  -8.34281369e-02 -3.05164123e-01]\n",
            " [ 5.32895091e-02 -4.51393240e-01 -9.41625027e-04 -4.45696292e-01\n",
            "   3.64503518e-04 -3.14336830e-01  1.72940317e-01 -3.88779784e-01\n",
            "  -4.70728270e-01 -2.13580039e-01]\n",
            " [ 5.72454027e-01 -1.25305126e-01 -3.56604388e-01 -1.57669805e-01\n",
            "  -1.73145466e-01 -4.30439741e-01 -1.65730811e-01  3.83483875e-02\n",
            "  -2.50288457e-01 -2.43405343e-01]\n",
            " [-6.72739437e-02  2.60918184e-02 -1.11410961e-01 -1.03522911e-01\n",
            "   1.54111708e-01  1.52426463e-01 -1.39625506e-01 -1.23857670e-01\n",
            "  -1.19315720e-01 -5.93298859e-03]\n",
            " [-3.21278170e-01  1.57143386e-01 -2.79323803e-01 -1.09331435e-01\n",
            "  -1.73034136e-01  8.73540048e-02  1.53496103e-01 -3.35359586e-01\n",
            "  -4.36335934e-01 -3.86439605e-01]\n",
            " [-1.77263563e-01 -8.36149025e-02 -5.31339000e-01  2.13984470e-03\n",
            "  -3.27308865e-01  2.92001797e-01 -1.11603943e-01 -3.41409246e-01\n",
            "  -3.48532943e-01 -4.28797991e-01]\n",
            " [-1.16694255e-01  1.90313251e-01 -1.03009548e-01 -6.66789284e-01\n",
            "  -5.72259026e-01 -4.78799581e-02 -3.43019515e-01 -4.56867994e-01\n",
            "   2.36264125e-01 -4.73766354e-01]\n",
            " [-1.60996565e-01 -3.00554531e-02  5.93280528e-02 -2.55640495e-01\n",
            "  -2.30563268e-01 -2.13038683e-01 -2.00741111e-01  4.76896281e-01\n",
            "  -2.76403175e-01 -4.47923599e-01]\n",
            " [-3.31235570e-01  2.51021927e-01 -3.84788120e-01  6.83677562e-02\n",
            "  -3.45168590e-01 -5.05051537e-01 -3.57402065e-01  3.35911516e-01\n",
            "  -4.23365509e-01 -4.12791144e-01]\n",
            " [ 1.35261422e-01 -6.32853737e-01  2.31146195e-02 -2.23473868e-01\n",
            "  -4.79395372e-01  4.46528756e-02 -5.10536464e-01  4.75125215e-02\n",
            "  -4.30589514e-02 -5.86615135e-01]\n",
            " [-4.69495942e-01  1.11857415e-01 -1.03554663e-01 -6.35772856e-01\n",
            "   7.30754916e-02 -3.27926806e-01  5.55325293e-02 -2.28762399e-01\n",
            "  -2.79066528e-01 -5.75009038e-02]\n",
            " [-4.74560475e-01 -1.78213519e-01  1.34114989e-01 -1.40236139e-02\n",
            "  -1.93033700e-01 -1.56471243e-01 -1.31138245e-01  2.21965880e-01\n",
            "  -3.28862665e-01 -4.74639218e-01]\n",
            " [-2.97497013e-02 -2.21887300e-01 -2.47639397e-01 -8.72266408e-02\n",
            "   2.84262281e-01  3.27729635e-01 -3.48089000e-01 -9.11607001e-02\n",
            "  -2.70681824e-01 -4.31874605e-01]\n",
            " [-5.25379721e-04  4.92883306e-02  1.67467773e-02  2.64539343e-02\n",
            "   9.40450928e-02 -1.78388597e-02 -1.70347869e-02 -3.67257151e-02\n",
            "   6.36124764e-02  4.46055200e-02]\n",
            " [ 1.51452122e-01  2.84177047e-01 -3.83516153e-01  1.94231578e-01\n",
            "  -3.66963322e-01 -5.60625132e-01 -2.89021337e-01 -4.80503103e-02\n",
            "  -3.02695159e-01 -2.38340040e-01]\n",
            " [-3.39935214e-01 -1.34466432e-01 -3.08402235e-01 -2.63273736e-01\n",
            "   2.66549335e-02 -1.83471235e-01  2.62981544e-01 -3.76459393e-01\n",
            "  -5.88269133e-01  1.50781996e-01]\n",
            " [-6.34700447e-01  9.78601224e-02 -3.50372623e-01  2.54873958e-02\n",
            "   6.50005692e-03 -6.07419565e-01 -4.38785812e-01 -7.80008926e-02\n",
            "  -1.70420305e-02  4.00194288e-02]\n",
            " [ 2.76062110e-02  7.79727228e-02 -4.32891748e-04  2.38765558e-02\n",
            "  -1.06973853e-01  6.19420322e-02  6.36051085e-02  8.84151369e-03\n",
            "   2.21493495e-02  2.69940324e-02]\n",
            " [-5.37719394e-01  1.68118956e-01  6.58701905e-03  2.19597584e-02\n",
            "  -5.06381876e-01  9.40439546e-02 -2.45398136e-01 -4.84037919e-01\n",
            "  -4.82169700e-01 -5.39074312e-01]\n",
            " [-1.20645963e-01 -3.95995289e-01 -3.23280574e-01 -4.75211459e-01\n",
            "  -7.96254515e-02 -4.67407101e-01 -2.58219326e-01  1.45283995e-01\n",
            "  -6.29272437e-01  7.84001954e-02]\n",
            " [-2.10322786e-01  5.97435215e-02 -1.27488485e-01 -3.07864993e-01\n",
            "  -1.41701405e-01 -8.83899800e-02  3.34721763e-01 -3.05903255e-01\n",
            "  -3.80069353e-01 -2.41679146e-01]\n",
            " [-4.65142357e-01  1.37838819e-01  1.26263834e-01 -2.81482549e-01\n",
            "  -2.55041519e-01 -5.55708077e-01 -1.11640667e-01 -7.88383147e-02\n",
            "  -5.89738871e-01 -3.49813955e-02]\n",
            " [-4.51861674e-01 -6.31334173e-02 -4.89341965e-01  4.24546483e-01\n",
            "  -3.25814357e-01 -4.41737774e-01 -5.53277878e-01 -2.54599482e-01\n",
            "  -4.68656620e-01  2.93451601e-01]\n",
            " [ 1.91883933e-02 -7.17566222e-01 -9.83139805e-02 -1.11635177e-01\n",
            "  -2.35133926e-01  4.41415351e-02 -6.37911136e-01  4.05477171e-02\n",
            "   2.00939934e-02 -3.35661277e-02]\n",
            " [ 8.50150377e-02 -4.00991240e-01  9.27116465e-02 -1.25983850e-01\n",
            "  -4.74496483e-01  3.13756549e-02 -1.93665925e-01 -4.19509098e-01\n",
            "  -1.83501999e-01 -4.17057787e-01]\n",
            " [-1.64792306e-02  1.35723009e-01  1.01988811e-01  1.12741104e-02\n",
            "  -1.16419110e-01 -1.51033807e-01 -2.21695787e-01 -2.40427402e-01\n",
            "  -3.49314878e-01 -1.31006323e-01]\n",
            " [-1.11214745e-01  1.80081993e-01  2.60226057e-01 -4.15314795e-01\n",
            "  -2.25663005e-01 -1.58701521e-02 -1.96026555e-01 -2.84795688e-01\n",
            "  -1.17882474e-01 -2.29994809e-01]\n",
            " [-5.06417833e-01  1.79362749e-01 -6.52297340e-01 -1.22808068e-01\n",
            "  -3.43492197e-01 -6.03908699e-01 -5.07952076e-01  1.16212067e-01\n",
            "  -5.29934310e-01  1.72248714e-01]\n",
            " [-3.41290753e-01 -2.75848686e-01  4.87744987e-01 -2.68247107e-01\n",
            "  -2.91716788e-01 -4.39682461e-01 -4.06392904e-01 -3.82041717e-02\n",
            "  -3.53163047e-01  2.50489273e-01]\n",
            " [ 2.96331671e-01 -9.86405145e-02 -2.16011717e-01 -4.79569362e-02\n",
            "  -3.11337372e-02 -2.97137291e-01  1.30664614e-01 -8.99688790e-02\n",
            "  -1.36775660e-01  6.24687883e-02]\n",
            " [-7.97910159e-03  5.53447433e-02  5.80430365e-02  6.08814941e-02\n",
            "  -4.28763344e-01 -3.37030301e-01 -4.14898977e-01 -2.70556531e-01\n",
            "  -5.70337528e-01 -4.74898976e-01]\n",
            " [ 4.99112455e-02 -2.12145839e-02 -2.41918298e-01 -3.11089494e-01\n",
            "   2.75484327e-01 -1.39013583e-01  3.48031101e-02 -4.05172471e-01\n",
            "  -3.26361939e-01 -2.85975642e-01]\n",
            " [-7.27804032e-02 -4.41498470e-01 -4.99594324e-01 -5.68869637e-01\n",
            "   2.92857741e-02  4.73749372e-03 -5.00160952e-01  2.32357470e-02\n",
            "  -2.62151522e-01  3.60297502e-02]\n",
            " [-1.74705168e-01 -1.35632237e-01  2.52253708e-01  3.69779238e-03\n",
            "  -1.58861388e-01 -2.33842152e-01 -5.12916729e-01 -5.52097997e-02\n",
            "  -4.72389399e-01 -2.99081973e-01]\n",
            " [ 3.71783857e-01 -1.74661553e-01 -4.36199677e-01 -3.05763480e-01\n",
            "  -1.60738065e-01 -1.06411863e-01 -3.62670247e-01  2.35123252e-01\n",
            "  -3.08090204e-01 -5.02817705e-01]\n",
            " [ 7.10681007e-01 -8.07092383e-02 -2.74489745e-01 -1.51898347e-01\n",
            "  -8.95968367e-02 -4.74842869e-01 -2.57238917e-01 -1.96621065e-01\n",
            "  -2.61934168e-01 -1.65546271e-01]\n",
            " [-4.34803541e-01 -3.32792992e-02 -5.16362964e-02  1.26480118e-01\n",
            "  -6.20222542e-01 -2.14822585e-01 -6.58194200e-01  8.57290406e-02\n",
            "  -1.15222457e-01 -3.77020562e-01]\n",
            " [ 2.53142232e-02  4.04401220e-02 -2.44496580e-02  2.68330360e-02\n",
            "   3.96242773e-02  8.52570666e-02 -7.64691234e-03 -1.43271763e-04\n",
            "  -3.48469246e-03  9.34165630e-02]\n",
            " [ 5.10935998e-02 -1.60002077e-02  2.80540074e-02 -7.09674932e-02\n",
            "   9.26404968e-02  3.72443074e-02  3.92719555e-02 -3.78453443e-02\n",
            "   4.62895348e-02  8.67320931e-02]\n",
            " [-3.33573550e-01 -2.09404046e-01 -2.49143402e-01 -1.43358463e-01\n",
            "  -2.96055575e-01 -1.87009439e-01  4.47666192e-01  2.47847750e-01\n",
            "  -2.70278312e-01 -4.38259112e-01]\n",
            " [-4.17401899e-01 -1.08258547e-01 -2.61315934e-01  1.00609461e-01\n",
            "  -4.24776679e-01  2.16322960e-01  4.55211308e-02 -4.37187580e-01\n",
            "  -2.45842090e-01 -4.35009827e-01]\n",
            " [ 3.13635487e-01 -1.31662032e-01  5.05525267e-02 -1.87470804e-01\n",
            "   3.13861951e-01 -3.61901149e-01 -3.24173761e-01 -2.44247940e-01\n",
            "  -2.79942811e-01 -1.04644359e-01]\n",
            " [ 8.46742497e-02 -2.19643011e-01 -6.23829860e-01 -4.70835270e-01\n",
            "   8.87241773e-03 -3.81771402e-03  5.20031432e-03 -5.02832360e-01\n",
            "   7.30254577e-03 -2.04472780e-02]\n",
            " [-3.39250986e-02 -6.64258629e-01  2.50734840e-02 -5.17129944e-01\n",
            "  -1.42115415e-02 -2.34031923e-01 -3.60677209e-01 -2.32278123e-03\n",
            "  -1.87400115e-02  4.24888586e-02]\n",
            " [-3.24468877e-01 -5.06333825e-02 -6.06771721e-01 -3.12754321e-01\n",
            "  -3.48392493e-01 -4.67529410e-02  1.51586291e-01 -3.48334480e-01\n",
            "   2.21413058e-01  4.77517575e-02]\n",
            " [-3.45561422e-01 -2.55005027e-01  1.63483676e-01 -1.55113265e-01\n",
            "  -4.37171583e-01  6.15627605e-02  1.95574566e-01 -2.44773901e-01\n",
            "  -3.12565579e-01 -2.56026867e-01]\n",
            " [-2.54031398e-01 -1.56056488e-01  5.18013166e-02  3.87363379e-02\n",
            "  -1.18557161e-01  1.57933118e-02 -5.36251255e-02 -6.17942871e-01\n",
            "  -4.60461927e-01 -1.57146219e-02]\n",
            " [ 1.42538161e-01 -1.62302653e-01 -3.66557382e-01 -1.11187362e-01\n",
            "  -2.00389923e-01 -2.65378143e-01  3.78063408e-01 -7.89989231e-02\n",
            "  -2.16068739e-01 -1.05861649e-01]\n",
            " [-5.21667118e-02 -2.75761933e-01 -3.44129284e-03 -2.92646050e-01\n",
            "  -4.49370861e-02 -3.45983190e-01  1.76588267e-01 -3.62719356e-01\n",
            "  -3.93577768e-01 -2.78760803e-01]\n",
            " [-2.35211916e-01 -3.03646250e-01 -2.93365600e-01  1.92049912e-01\n",
            "  -1.58343621e-01  3.67239487e-01 -3.24345228e-01 -4.11213801e-01\n",
            "  -4.59152469e-01 -2.80068463e-01]\n",
            " [-4.41673962e-01  7.44232588e-03 -1.68898120e-01  2.66218080e-01\n",
            "  -3.82755697e-01 -2.20121762e-01  1.67828827e-01 -2.82528698e-01\n",
            "  -2.30468709e-01 -5.37007326e-01]\n",
            " [-1.93019750e-01 -1.96531887e-01  1.18224857e-01 -4.83144288e-01\n",
            "  -6.54419046e-01 -3.13152033e-01  9.51300473e-02  2.62335245e-02\n",
            "  -4.68127752e-01 -4.67824493e-02]]\n"
          ],
          "name": "stdout"
        }
      ]
    },
    {
      "cell_type": "markdown",
      "metadata": {
        "id": "Oo1RGc8r6srZ"
      },
      "source": [
        "## **Let's Test our trained model** "
      ]
    },
    {
      "cell_type": "code",
      "metadata": {
        "colab": {
          "base_uri": "https://localhost:8080/",
          "height": 265
        },
        "id": "GXXTT7fwF2Bh",
        "outputId": "d42e2ee2-ddba-40da-d227-42ef7e16ee7e"
      },
      "source": [
        "plt.imshow(test_images[7].reshape(28,28),cmap='gray')\n",
        "plt.show()"
      ],
      "execution_count": 116,
      "outputs": [
        {
          "output_type": "display_data",
          "data": {
            "image/png": "[encoded data removed]",
            "text/plain": [
              "<Figure size 432x288 with 1 Axes>"
            ]
          },
          "metadata": {
            "tags": [],
            "needs_background": "light"
          }
        }
      ]
    },
    {
      "cell_type": "code",
      "metadata": {
        "colab": {
          "base_uri": "https://localhost:8080/"
        },
        "id": "gDXs9HGDGmD5",
        "outputId": "4f6ea758-5732-4b28-c570-5e601d4229e5"
      },
      "source": [
        "output = predict(test_images[7],weights_0_1,weights_1_2)\n",
        "print(\"predicted label: \",np.argmax(output))"
      ],
      "execution_count": 115,
      "outputs": [
        {
          "output_type": "stream",
          "text": [
            "predicted label:  3\n"
          ],
          "name": "stdout"
        }
      ]
    }
  ]
}