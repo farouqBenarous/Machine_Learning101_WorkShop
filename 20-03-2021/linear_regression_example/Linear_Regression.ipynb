{
  "nbformat": 4,
  "nbformat_minor": 0,
  "metadata": {
    "colab": {
      "name": "Linear_Regression.ipynb",
      "provenance": [],
      "collapsed_sections": []
    },
    "kernelspec": {
      "name": "python3",
      "display_name": "Python 3"
    }
  },
  "cells": [
    {
      "cell_type": "markdown",
      "metadata": {
        "id": "vwTlhoGWuvs7"
      },
      "source": [
        "###Solving Housing price prediction using Linear regression "
      ]
    },
    {
      "cell_type": "markdown",
      "metadata": {
        "id": "1l6zHH2LPb6U"
      },
      "source": [
        "**Import our libraries**"
      ]
    },
    {
      "cell_type": "code",
      "metadata": {
        "id": "dmYVqDbJJqVY",
        "colab": {
          "base_uri": "https://localhost:8080/"
        },
        "outputId": "28f8dd3a-1204-46b5-ba0f-dd14621848f7"
      },
      "source": [
        "import numpy as np \n",
        "import pandas as pd \n",
        "import matplotlib.pyplot as plt\n",
        "\n",
        "## mount Gdrive\n",
        "from google.colab import drive\n",
        "drive.mount('/content/drive')"
      ],
      "execution_count": null,
      "outputs": [
        {
          "output_type": "stream",
          "text": [
            "Drive already mounted at /content/drive; to attempt to forcibly remount, call drive.mount(\"/content/drive\", force_remount=True).\n"
          ],
          "name": "stdout"
        }
      ]
    },
    {
      "cell_type": "markdown",
      "metadata": {
        "id": "tzxC1QmPPm1w"
      },
      "source": [
        "**Read Our Data**"
      ]
    },
    {
      "cell_type": "code",
      "metadata": {
        "colab": {
          "base_uri": "https://localhost:8080/"
        },
        "id": "A2OmFvz0Ppl3",
        "outputId": "5c5377bb-54cb-42ef-fcc8-ecd2361d0445"
      },
      "source": [
        "data = pd.read_csv(\"/content/drive/MyDrive/Machine learning Workshop/code/housing_price_data.csv\")\n",
        "print(data)"
      ],
      "execution_count": null,
      "outputs": [
        {
          "output_type": "stream",
          "text": [
            "          size         price\n",
            "0   325.023453  31707.005847\n",
            "1   534.268040  68777.595982\n",
            "2   615.303580  62562.382298\n",
            "3   474.756396  71546.632234\n",
            "4   598.132079  87230.925134\n",
            "..         ...           ...\n",
            "95  500.301743  81536.990783\n",
            "96  492.397653  72111.832470\n",
            "97  500.395759  85232.007342\n",
            "98  481.498589  66224.957888\n",
            "99  251.284846  53454.394215\n",
            "\n",
            "[100 rows x 2 columns]\n"
          ],
          "name": "stdout"
        }
      ]
    },
    {
      "cell_type": "markdown",
      "metadata": {
        "id": "lJ2V_kU9Y6px"
      },
      "source": [
        "**Plot our data**"
      ]
    },
    {
      "cell_type": "code",
      "metadata": {
        "colab": {
          "base_uri": "https://localhost:8080/",
          "height": 294
        },
        "id": "xbxhHIUDY8qP",
        "outputId": "d00ccee4-a6ef-4bf4-d345-8fa906b8ea7a"
      },
      "source": [
        "plt.scatter(data[\"size\"], data[\"price\"])\n",
        "plt.xlabel(\"Size of the house\")\n",
        "plt.ylabel(\"Price of the house\")\n",
        "\n",
        "plt.title(\"Housing price data\")\n",
        "plt.show()"
      ],
      "execution_count": null,
      "outputs": [
        {
          "output_type": "display_data",
          "data": {
            "image/png": "[encoded data removed]",
            "text/plain": [
              "<Figure size 432x288 with 1 Axes>"
            ]
          },
          "metadata": {
            "tags": [],
            "needs_background": "light"
          }
        }
      ]
    },
    {
      "cell_type": "markdown",
      "metadata": {
        "id": "9rhQxqcKRnGU"
      },
      "source": [
        "**Define Model baseLine and hyper parameters**"
      ]
    },
    {
      "cell_type": "code",
      "metadata": {
        "id": "e-6h6JRxRqJb"
      },
      "source": [
        "# Y = mX + b \n",
        "def myfunc(x):\n",
        "  return m * x + b\n",
        "  \n",
        "learning_rate = 0.000001\n",
        "initial_b = 0 # initial y-intercept guess\n",
        "initial_m = 0 # initial slope guess\n",
        "num_iterations = 1000"
      ],
      "execution_count": null,
      "outputs": []
    },
    {
      "cell_type": "markdown",
      "metadata": {
        "id": "Fzd3SZztSPSb"
      },
      "source": [
        "**Define our Loss/Cost function**"
      ]
    },
    {
      "cell_type": "code",
      "metadata": {
        "id": "XoIM5hluSXSq"
      },
      "source": [
        "def compute_cost_for_given_points(b, m, points):\n",
        "    totalError = 0\n",
        "    for i in range(0, len(points)):\n",
        "        x = points[i, 0]\n",
        "        y = points[i, 1]\n",
        "        totalError += (y - (m * x + b)) ** 2\n",
        "    return totalError / float(len(points))"
      ],
      "execution_count": null,
      "outputs": []
    },
    {
      "cell_type": "markdown",
      "metadata": {
        "id": "5oLnX8ldS277"
      },
      "source": [
        "**Define our Optimazer**"
      ]
    },
    {
      "cell_type": "code",
      "metadata": {
        "id": "P0C0YwyNS4eL"
      },
      "source": [
        "def gradient_descent(b_current, m_current, points, learningRate):\n",
        "    b_gradient = 0\n",
        "    m_gradient = 0\n",
        "    N = float(len(points))\n",
        "    for i in range(0, len(points)):\n",
        "        x = points[i, 0]\n",
        "        y = points[i, 1]\n",
        "        b_gradient += -(2/N) * (y - ((m_current * x) + b_current))\n",
        "        m_gradient += -(2/N) * x * (y - ((m_current * x) + b_current))\n",
        "    \n",
        "    #Update our learnable parameters     \n",
        "    new_b = b_current - (learningRate * b_gradient)\n",
        "    new_m = m_current - (learningRate * m_gradient)\n",
        "    return [new_b, new_m]"
      ],
      "execution_count": null,
      "outputs": []
    },
    {
      "cell_type": "markdown",
      "metadata": {
        "id": "9nRUe6kDSqKA"
      },
      "source": [
        "**Train our model**"
      ]
    },
    {
      "cell_type": "code",
      "metadata": {
        "colab": {
          "base_uri": "https://localhost:8080/"
        },
        "id": "a1HBOTCnStGk",
        "outputId": "f5a4a1f9-79d3-4aad-83b4-e3258996387d"
      },
      "source": [
        "b = initial_b\n",
        "m = initial_m\n",
        "for i in range(num_iterations):\n",
        "  b, m = gradient_descent(b, m, np.array(data), learning_rate)\n",
        "  \n",
        "print (\"After {0} iterations b = {1}, m = {2}, error = {3}\".format(num_iterations, b, m, compute_cost_for_given_points(b, m, np.array(data))))"
      ],
      "execution_count": null,
      "outputs": [
        {
          "output_type": "stream",
          "text": [
            "After 1000 iterations b = 0.8941114068197181, m = 147.94721764544937, error = 112667634.07967968\n"
          ],
          "name": "stdout"
        }
      ]
    },
    {
      "cell_type": "markdown",
      "metadata": {
        "id": "cemhs5-BbCT6"
      },
      "source": [
        "**Test our model**\n"
      ]
    },
    {
      "cell_type": "code",
      "metadata": {
        "colab": {
          "base_uri": "https://localhost:8080/",
          "height": 294
        },
        "id": "idL_-jZObG5e",
        "outputId": "a52779a1-4007-47d8-ea1c-4bc091c1592d"
      },
      "source": [
        "mymodel = list(map(myfunc, data[\"size\"]))\n",
        "\n",
        "plt.scatter(data[\"size\"], data[\"price\"])\n",
        "plt.xlabel(\"Size of the house\")\n",
        "plt.ylabel(\"Price of the house\")\n",
        "plt.title(\"Housing price data\")\n",
        "\n",
        "plt.plot(data[\"size\"], mymodel,color='Red')\n",
        "\n",
        "plt.show()"
      ],
      "execution_count": null,
      "outputs": [
        {
          "output_type": "display_data",
          "data": {
            "image/png": "[encoded data removed]",
            "text/plain": [
              "<Figure size 432x288 with 1 Axes>"
            ]
          },
          "metadata": {
            "tags": [],
            "needs_background": "light"
          }
        }
      ]
    },
    {
      "cell_type": "code",
      "metadata": {
        "id": "xslOEcI2lEFe"
      },
      "source": [
        "# GradientDescentExample :  https://raw.githubusercontent.com/mattnedrich/GradientDescentExample/master/gradient_descent_example.gif\n",
        "# Loss function plot :  http://spin.atomicobject.com/wp-content/uploads/gradient_descent_error_surface.png"
      ],
      "execution_count": null,
      "outputs": []
    }
  ]
}